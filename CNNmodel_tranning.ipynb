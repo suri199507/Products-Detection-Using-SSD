{
  "nbformat": 4,
  "nbformat_minor": 0,
  "metadata": {
    "colab": {
      "name": "CNNmodel_tranning.ipynb",
      "provenance": [],
      "authorship_tag": "ABX9TyNRj8tJUiwhniUc41doysbA",
      "include_colab_link": true
    },
    "kernelspec": {
      "name": "python3",
      "display_name": "Python 3"
    },
    "accelerator": "GPU"
  },
  "cells": [
    {
      "cell_type": "markdown",
      "metadata": {
        "id": "view-in-github",
        "colab_type": "text"
      },
      "source": [
        "<a href=\"https://colab.research.google.com/github/suri199507/image_processing_deep-learning/blob/master/CNNmodel_tranning.ipynb\" target=\"_parent\"><img src=\"https://colab.research.google.com/assets/colab-badge.svg\" alt=\"Open In Colab\"/></a>"
      ]
    },
    {
      "cell_type": "code",
      "metadata": {
        "id": "6WcH-W6YHxeO",
        "colab_type": "code",
        "outputId": "40fab332-21e9-45b2-aed4-c5008ed70613",
        "colab": {
          "base_uri": "https://localhost:8080/",
          "height": 275
        }
      },
      "source": [
        "!pip install PyDrive\n",
        "from pydrive.auth import GoogleAuth\n",
        "from pydrive.drive import GoogleDrive\n",
        "from google.colab import auth\n",
        "from oauth2client.client import GoogleCredentials"
      ],
      "execution_count": 0,
      "outputs": [
        {
          "output_type": "stream",
          "text": [
            "Requirement already satisfied: PyDrive in /usr/local/lib/python3.6/dist-packages (1.3.1)\n",
            "Requirement already satisfied: oauth2client>=4.0.0 in /usr/local/lib/python3.6/dist-packages (from PyDrive) (4.1.3)\n",
            "Requirement already satisfied: PyYAML>=3.0 in /usr/local/lib/python3.6/dist-packages (from PyDrive) (3.13)\n",
            "Requirement already satisfied: google-api-python-client>=1.2 in /usr/local/lib/python3.6/dist-packages (from PyDrive) (1.7.12)\n",
            "Requirement already satisfied: rsa>=3.1.4 in /usr/local/lib/python3.6/dist-packages (from oauth2client>=4.0.0->PyDrive) (4.0)\n",
            "Requirement already satisfied: six>=1.6.1 in /usr/local/lib/python3.6/dist-packages (from oauth2client>=4.0.0->PyDrive) (1.12.0)\n",
            "Requirement already satisfied: httplib2>=0.9.1 in /usr/local/lib/python3.6/dist-packages (from oauth2client>=4.0.0->PyDrive) (0.17.3)\n",
            "Requirement already satisfied: pyasn1>=0.1.7 in /usr/local/lib/python3.6/dist-packages (from oauth2client>=4.0.0->PyDrive) (0.4.8)\n",
            "Requirement already satisfied: pyasn1-modules>=0.0.5 in /usr/local/lib/python3.6/dist-packages (from oauth2client>=4.0.0->PyDrive) (0.2.8)\n",
            "Requirement already satisfied: uritemplate<4dev,>=3.0.0 in /usr/local/lib/python3.6/dist-packages (from google-api-python-client>=1.2->PyDrive) (3.0.1)\n",
            "Requirement already satisfied: google-auth-httplib2>=0.0.3 in /usr/local/lib/python3.6/dist-packages (from google-api-python-client>=1.2->PyDrive) (0.0.3)\n",
            "Requirement already satisfied: google-auth>=1.4.1 in /usr/local/lib/python3.6/dist-packages (from google-api-python-client>=1.2->PyDrive) (1.7.2)\n",
            "Requirement already satisfied: setuptools>=40.3.0 in /usr/local/lib/python3.6/dist-packages (from google-auth>=1.4.1->google-api-python-client>=1.2->PyDrive) (46.3.0)\n",
            "Requirement already satisfied: cachetools<3.2,>=2.0.0 in /usr/local/lib/python3.6/dist-packages (from google-auth>=1.4.1->google-api-python-client>=1.2->PyDrive) (3.1.1)\n"
          ],
          "name": "stdout"
        }
      ]
    },
    {
      "cell_type": "code",
      "metadata": {
        "id": "ww_thRlUNFyZ",
        "colab_type": "code",
        "colab": {}
      },
      "source": [
        "auth.authenticate_user()\n",
        "gauth = GoogleAuth() \n",
        "gauth.credentials = GoogleCredentials.get_application_default()\n",
        "drive = GoogleDrive(gauth)"
      ],
      "execution_count": 0,
      "outputs": []
    },
    {
      "cell_type": "code",
      "metadata": {
        "id": "wpwPkWr9gqaj",
        "colab_type": "code",
        "colab": {}
      },
      "source": [
        "download = drive.CreateFile({'id':'1i6Jj9RUTluqTAxrMcr95C_oYKem4589Z'})\n",
        "download.GetContentFile('model_data.zip')\n"
      ],
      "execution_count": 0,
      "outputs": []
    },
    {
      "cell_type": "code",
      "metadata": {
        "id": "RwKXW3z_gxUs",
        "colab_type": "code",
        "outputId": "d73372b4-f388-4ca9-a678-c790b7c5d94e",
        "colab": {
          "base_uri": "https://localhost:8080/",
          "height": 51
        }
      },
      "source": [
        "!ls"
      ],
      "execution_count": 0,
      "outputs": [
        {
          "output_type": "stream",
          "text": [
            "adc.json\t\tGroceryDataset_part1_1.zip  model_data.zip\n",
            "GroceryDataset_part1_1\tmodel_data\t\t    sample_data\n"
          ],
          "name": "stdout"
        }
      ]
    },
    {
      "cell_type": "code",
      "metadata": {
        "id": "aXqwQXxc4eqX",
        "colab_type": "code",
        "colab": {}
      },
      "source": [
        "!unzip model_data.zip\n"
      ],
      "execution_count": 0,
      "outputs": []
    },
    {
      "cell_type": "code",
      "metadata": {
        "id": "1P-NBnVZkTES",
        "colab_type": "code",
        "colab": {}
      },
      "source": [
        "download = drive.CreateFile({'id':'1xepetD5kn2PbwE6hSPcFeTyuHtkEKuPI'})\n",
        "download.GetContentFile('GroceryDataset_part1_1.zip')\n"
      ],
      "execution_count": 0,
      "outputs": []
    },
    {
      "cell_type": "code",
      "metadata": {
        "id": "5C0n1HIgkx73",
        "colab_type": "code",
        "colab": {}
      },
      "source": [
        "!unzip --qq GroceryDataset_part1_1"
      ],
      "execution_count": 0,
      "outputs": []
    },
    {
      "cell_type": "code",
      "metadata": {
        "id": "HXI0AN5GkGzK",
        "colab_type": "code",
        "outputId": "ff267c4e-1d30-4e2a-cb1a-2e32ac04395d",
        "colab": {
          "base_uri": "https://localhost:8080/",
          "height": 34
        }
      },
      "source": [
        "import keras\n",
        "from keras.preprocessing.image import ImageDataGenerator\n",
        "from keras.models import Sequential\n",
        "import pandas as pd\n",
        "import cv2\n",
        "import numpy as np\n",
        "from matplotlib import pyplot as plt\n",
        "from sklearn.metrics import confusion_matrix\n",
        "import itertools\n",
        "from keras.layers import Dense, Dropout, Activation, Flatten, Input\n",
        "from keras.layers import Conv2D, MaxPooling2D, AveragePooling2D\n",
        "from keras.layers import BatchNormalization\n",
        "from keras.regularizers import l2\n",
        "from keras.models import Model\n",
        "from keras.optimizers import Adam\n",
        "from keras.callbacks import LearningRateScheduler\n",
        "from keras import backend as K\n",
        "\n",
        "\n",
        "%matplotlib inline"
      ],
      "execution_count": 0,
      "outputs": [
        {
          "output_type": "stream",
          "text": [
            "Using TensorFlow backend.\n"
          ],
          "name": "stderr"
        }
      ]
    },
    {
      "cell_type": "code",
      "metadata": {
        "id": "NsC92YJT1JT1",
        "colab_type": "code",
        "colab": {}
      },
      "source": [
        "shelf_images_train = 'GroceryDataset_part1_1/ShelfImages/ShelfImages/train/'"
      ],
      "execution_count": 0,
      "outputs": []
    },
    {
      "cell_type": "code",
      "metadata": {
        "id": "ACCwnLC-1l4e",
        "colab_type": "code",
        "colab": {}
      },
      "source": [
        "\n",
        "photos_df = pd.read_pickle(f'model_data/photos.pkl')\n",
        "products_df =  pd.read_pickle(f'model_data/products.pkl')"
      ],
      "execution_count": 0,
      "outputs": []
    },
    {
      "cell_type": "code",
      "metadata": {
        "id": "B-8k3n7L1unQ",
        "colab_type": "code",
        "colab": {}
      },
      "source": [
        " #neural networks work with input of fixed size, so we need to resize our\n",
        "# packs images to the chosen size. The size is some kind of metaparameter and \n",
        "# you should try different variants. Logically, the bigger size you select,\n",
        "# the better performace you'll have. Unfortunatelly it is not true, because \n",
        "# of over fitting. The more parameters your neural network have, the easier it\n",
        "# became over fitted\n",
        "num_classes = 10\n",
        "SHAPE_WIDTH = 80\n",
        "SHAPE_HEIGHT = 120"
      ],
      "execution_count": 0,
      "outputs": []
    },
    {
      "cell_type": "code",
      "metadata": {
        "id": "Hn-F-8yX4yhi",
        "colab_type": "code",
        "colab": {}
      },
      "source": [
        "# resize pack to fixed size SHAPE_WIDTH x SHAPE_HEIGHT\n",
        "def resize_pack(pack):\n",
        "    fx_ratio = SHAPE_WIDTH / pack.shape[1]\n",
        "    fy_ratio = SHAPE_HEIGHT / pack.shape[0]    \n",
        "    pack = cv2.resize(pack, (0, 0), fx=fx_ratio, fy=fy_ratio)\n",
        "    return pack[0:SHAPE_HEIGHT, 0:SHAPE_WIDTH]"
      ],
      "execution_count": 0,
      "outputs": []
    },
    {
      "cell_type": "code",
      "metadata": {
        "id": "So6FTkHq482z",
        "colab_type": "code",
        "colab": {}
      },
      "source": [
        "x,y,f=[],[],[]\n",
        "for file, is_train in photos_df[['file', 'is_train']].values:\n",
        "  photo_r=products_df[products_df.file==file]\n",
        "  r_data=photo_r[['category', 'xmin', 'ymin', 'xmax', 'ymax']]\n",
        "  img=cv2.imread(f'{shelf_images_train}{file}')\n",
        "  img=cv2.cvtColor(img,cv2.COLOR_BGR2RGB)\n",
        "  for category, xmin, ymin, xmax, ymax in r_data.values:\n",
        "        if category == 0:\n",
        "            continue\n",
        "        pack = resize_pack(np.array(img[ymin:ymax, xmin:xmax]))\n",
        "        x.append(pack)\n",
        "        f.append(is_train)\n",
        "        y.append(category - 1)"
      ],
      "execution_count": 0,
      "outputs": []
    },
    {
      "cell_type": "code",
      "metadata": {
        "id": "Z7Kqwe9F67Cv",
        "colab_type": "code",
        "outputId": "4f7dfd2c-190c-4684-93fb-96099562bed5",
        "colab": {
          "base_uri": "https://localhost:8080/",
          "height": 285
        }
      },
      "source": [
        "# display one SHAPE_WIDTH x SHAPE_HEIGHT resized pack image, \n",
        "# it is hard to recognize category with our eyes, let's see\n",
        "# how neural network will do the job\n",
        "plt.imshow(x[60])"
      ],
      "execution_count": 0,
      "outputs": [
        {
          "output_type": "execute_result",
          "data": {
            "text/plain": [
              "<matplotlib.image.AxesImage at 0x7f64ab540e80>"
            ]
          },
          "metadata": {
            "tags": []
          },
          "execution_count": 28
        },
        {
          "output_type": "display_data",
          "data": {
            "image/png": "[encoded data removed]",
            "text/plain": [
              "<Figure size 432x288 with 1 Axes>"
            ]
          },
          "metadata": {
            "tags": [],
            "needs_background": "light"
          }
        }
      ]
    },
    {
      "cell_type": "code",
      "metadata": {
        "id": "o2sFu-mU7n0c",
        "colab_type": "code",
        "colab": {}
      },
      "source": [
        "x = np.array(x)\n",
        "y = np.array(y)\n",
        "f = np.array(f)\n",
        "x_train, x_validation, y_train, y_validation = x[f], x[~f], y[f], y[~f]\n",
        "# save validation images\n",
        "x_validation_images = x_validation"
      ],
      "execution_count": 0,
      "outputs": []
    },
    {
      "cell_type": "code",
      "metadata": {
        "id": "94MviNGP87eh",
        "colab_type": "code",
        "colab": {}
      },
      "source": [
        "# convert y_train and y_validation to one-hot arrays\n",
        "y_train = keras.utils.to_categorical(y_train, num_classes)\n",
        "y_validation = keras.utils.to_categorical(y_validation, num_classes)"
      ],
      "execution_count": 0,
      "outputs": []
    },
    {
      "cell_type": "code",
      "metadata": {
        "id": "tzSeROo29IIL",
        "colab_type": "code",
        "colab": {}
      },
      "source": [
        "# normalize x_train, x_validation\n",
        "x_train = x_train.astype('float32')\n",
        "x_validation = x_validation.astype('float32')\n",
        "x_train /= 255\n",
        "x_validation /= 255"
      ],
      "execution_count": 0,
      "outputs": []
    },
    {
      "cell_type": "code",
      "metadata": {
        "id": "x61xJBlz9KyJ",
        "colab_type": "code",
        "outputId": "c4041baf-bd15-439d-e4b4-dc648ea863d4",
        "colab": {
          "base_uri": "https://localhost:8080/",
          "height": 85
        }
      },
      "source": [
        "# let's see what do we have\n",
        "print('x_train shape:', x_train.shape)\n",
        "print('y_train shape:', y_train.shape)\n",
        "print(x_train.shape[0], 'train samples')\n",
        "print(x_validation.shape[0], 'validation samples')"
      ],
      "execution_count": 0,
      "outputs": [
        {
          "output_type": "stream",
          "text": [
            "x_train shape: (1508, 120, 80, 3)\n",
            "y_train shape: (1508, 10)\n",
            "1508 train samples\n",
            "611 validation samples\n"
          ],
          "name": "stdout"
        }
      ]
    },
    {
      "cell_type": "code",
      "metadata": {
        "id": "HC6o7s0V9N2_",
        "colab_type": "code",
        "colab": {}
      },
      "source": [
        "# let's build our ResNet CNN. We don't do any significant changes to keras example\n",
        "def lr_schedule(epoch):\n",
        "    lr = 1e-3\n",
        "    if epoch > 5:\n",
        "        lr *= 1e-1\n",
        "    print('Learning rate: ', lr)\n",
        "    return lr\n",
        "    "
      ],
      "execution_count": 0,
      "outputs": []
    },
    {
      "cell_type": "code",
      "metadata": {
        "id": "NPI37QVe-SDC",
        "colab_type": "code",
        "outputId": "ca5e677b-e998-4603-ceee-504a4acd5476",
        "colab": {
          "base_uri": "https://localhost:8080/",
          "height": 34
        }
      },
      "source": [
        "def resnet_layer(inputs,\n",
        "                 num_filters=16,\n",
        "                 kernel_size=3,\n",
        "                 strides=1,\n",
        "                 activation='relu',\n",
        "                 batch_normalization=True,\n",
        "                 conv_first=True):\n",
        "    conv = Conv2D(num_filters,\n",
        "                  kernel_size=kernel_size,\n",
        "                  strides=strides,\n",
        "                  padding='same',\n",
        "                  kernel_initializer='he_normal',\n",
        "                  kernel_regularizer=l2(1e-4))\n",
        "\n",
        "    x = inputs\n",
        "    if conv_first:\n",
        "        x = conv(x)\n",
        "        if batch_normalization:\n",
        "            x = BatchNormalization()(x)\n",
        "        if activation is not None:\n",
        "            x = Activation(activation)(x)\n",
        "    else:\n",
        "        if batch_normalization:\n",
        "            x = BatchNormalization()(x)\n",
        "        if activation is not None:\n",
        "            x = Activation(activation)(x)\n",
        "        x = conv(x)\n",
        "    return x\n",
        "def resnet_v1(input_shape, depth, num_classes=10):\n",
        "    if (depth - 2) % 6 != 0:\n",
        "        raise ValueError('depth should be 6n+2 (eg 20, 32, 44 in [a])')\n",
        "    # Start model definition.\n",
        "    num_filters = 16\n",
        "    num_res_blocks = int((depth - 2) / 6)\n",
        "\n",
        "    inputs = Input(shape=x_train.shape[1:])\n",
        "    x = resnet_layer(inputs=inputs)\n",
        "    # Instantiate the stack of residual units\n",
        "    for stack in range(3):\n",
        "        for res_block in range(num_res_blocks):\n",
        "            strides = 1\n",
        "            if stack > 0 and res_block == 0:  # first layer but not first stack\n",
        "                strides = 2  # downsample\n",
        "            y = resnet_layer(inputs=x,\n",
        "                             num_filters=num_filters,\n",
        "                             strides=strides)\n",
        "            y = resnet_layer(inputs=y,\n",
        "                             num_filters=num_filters,\n",
        "                             activation=None)\n",
        "            if stack > 0 and res_block == 0:  # first layer but not first stack\n",
        "                # linear projection residual shortcut connection to match\n",
        "                # changed dims\n",
        "                x = resnet_layer(inputs=x,\n",
        "                                 num_filters=num_filters,\n",
        "                                 kernel_size=1,\n",
        "                                 strides=strides,\n",
        "                                 activation=None,\n",
        "                                 batch_normalization=False)\n",
        "            x = keras.layers.add([x, y])\n",
        "            x = Activation('relu')(x)\n",
        "        num_filters *= 2\n",
        "\n",
        "    # Add classifier on top.\n",
        "    # v1 does not use BN after last shortcut connection-ReLU\n",
        "    x = AveragePooling2D(pool_size=8)(x)\n",
        "    y = Flatten()(x)\n",
        "    outputs = Dense(num_classes,\n",
        "                    activation='softmax',\n",
        "                    kernel_initializer='he_normal')(y)\n",
        "\n",
        "    # Instantiate model.\n",
        "    model = Model(inputs=inputs, outputs=outputs)\n",
        "    return model\n",
        "\n",
        "n = 3\n",
        "version = 1\n",
        "if version == 1:\n",
        "    depth = n * 6 + 2\n",
        "elif version == 2:\n",
        "    depth = n * 9 + 2\n",
        "model_type = 'ResNet%dv%d' % (depth, version)\n",
        "\n",
        "model = resnet_v1(input_shape=x_train.shape[1:], depth=depth, num_classes=num_classes)\n",
        "model.compile(loss='categorical_crossentropy',\n",
        "              optimizer=Adam(lr=lr_schedule(0)), metrics=['accuracy'])\n"
      ],
      "execution_count": 0,
      "outputs": [
        {
          "output_type": "stream",
          "text": [
            "Learning rate:  0.001\n"
          ],
          "name": "stdout"
        }
      ]
    },
    {
      "cell_type": "code",
      "metadata": {
        "id": "iRQ7iwN9A09m",
        "colab_type": "code",
        "colab": {}
      },
      "source": [
        "# This will do preprocessing and realtime data augmentation:\n",
        "datagen = ImageDataGenerator(\n",
        "    featurewise_center=False,  # set input mean to 0 over the dataset\n",
        "    samplewise_center=False,  # set each sample mean to 0\n",
        "    featurewise_std_normalization=False,  # divide inputs by std of the dataset\n",
        "    samplewise_std_normalization=False,  # divide each input by its std\n",
        "    zca_whitening=False,  # apply ZCA whitening\n",
        "    rotation_range=5,  # randomly rotate images in the range (degrees, 0 to 180)\n",
        "    width_shift_range=0.1,  # randomly shift images horizontally (fraction of total width)\n",
        "    height_shift_range=0.1,  # randomly shift images vertically (fraction of total height)\n",
        "    horizontal_flip=False,  # randomly flip images\n",
        "    vertical_flip=False)  # randomly flip images\n",
        "datagen.fit(x_train)"
      ],
      "execution_count": 0,
      "outputs": []
    },
    {
      "cell_type": "code",
      "metadata": {
        "id": "70-cds_7A6j0",
        "colab_type": "code",
        "outputId": "13704a6f-36e3-4d11-e542-7543a9936fe6",
        "colab": {
          "base_uri": "https://localhost:8080/",
          "height": 799
        }
      },
      "source": [
        "# let's run training process, 20 epochs is enough\n",
        "batch_size = 50\n",
        "epochs = 15\n",
        "model.fit_generator(datagen.flow(x_train, y_train, batch_size=batch_size),\n",
        "                    validation_data=(x_validation, y_validation),\n",
        "                    epochs=epochs, verbose=1, workers=4, \n",
        "                    callbacks=[LearningRateScheduler(lr_schedule)])"
      ],
      "execution_count": 0,
      "outputs": [
        {
          "output_type": "stream",
          "text": [
            "Epoch 1/15\n",
            "Learning rate:  0.001\n",
            "31/31 [==============================] - 17s 545ms/step - loss: 1.6753 - accuracy: 0.6021 - val_loss: 24.7224 - val_accuracy: 0.0327\n",
            "Epoch 2/15\n",
            "Learning rate:  0.001\n",
            "31/31 [==============================] - 5s 171ms/step - loss: 0.5454 - accuracy: 0.8800 - val_loss: 1.6322 - val_accuracy: 0.5466\n",
            "Epoch 3/15\n",
            "Learning rate:  0.001\n",
            "31/31 [==============================] - 5s 149ms/step - loss: 0.3898 - accuracy: 0.9377 - val_loss: 1.4163 - val_accuracy: 0.6236\n",
            "Epoch 4/15\n",
            "Learning rate:  0.001\n",
            "31/31 [==============================] - 5s 171ms/step - loss: 0.3327 - accuracy: 0.9542 - val_loss: 2.6334 - val_accuracy: 0.3159\n",
            "Epoch 5/15\n",
            "Learning rate:  0.001\n",
            "31/31 [==============================] - 5s 150ms/step - loss: 0.2880 - accuracy: 0.9662 - val_loss: 1.1535 - val_accuracy: 0.6890\n",
            "Epoch 6/15\n",
            "Learning rate:  0.001\n",
            "31/31 [==============================] - 5s 153ms/step - loss: 0.2557 - accuracy: 0.9748 - val_loss: 1.2817 - val_accuracy: 0.7054\n",
            "Epoch 7/15\n",
            "Learning rate:  0.0001\n",
            "31/31 [==============================] - 5s 154ms/step - loss: 0.2339 - accuracy: 0.9854 - val_loss: 1.0715 - val_accuracy: 0.7381\n",
            "Epoch 8/15\n",
            "Learning rate:  0.0001\n",
            "31/31 [==============================] - 5s 148ms/step - loss: 0.2238 - accuracy: 0.9867 - val_loss: 0.9629 - val_accuracy: 0.7610\n",
            "Epoch 9/15\n",
            "Learning rate:  0.0001\n",
            "31/31 [==============================] - 5s 149ms/step - loss: 0.2137 - accuracy: 0.9887 - val_loss: 0.8356 - val_accuracy: 0.8069\n",
            "Epoch 10/15\n",
            "Learning rate:  0.0001\n",
            "31/31 [==============================] - 5s 151ms/step - loss: 0.2068 - accuracy: 0.9907 - val_loss: 0.6765 - val_accuracy: 0.8445\n",
            "Epoch 11/15\n",
            "Learning rate:  0.0001\n",
            "31/31 [==============================] - 5s 148ms/step - loss: 0.2142 - accuracy: 0.9887 - val_loss: 0.5918 - val_accuracy: 0.8723\n",
            "Epoch 12/15\n",
            "Learning rate:  0.0001\n",
            "31/31 [==============================] - 5s 149ms/step - loss: 0.1952 - accuracy: 0.9947 - val_loss: 0.5186 - val_accuracy: 0.9051\n",
            "Epoch 13/15\n",
            "Learning rate:  0.0001\n",
            "31/31 [==============================] - 5s 151ms/step - loss: 0.1957 - accuracy: 0.9914 - val_loss: 0.4776 - val_accuracy: 0.9214\n",
            "Epoch 14/15\n",
            "Learning rate:  0.0001\n",
            "31/31 [==============================] - 5s 150ms/step - loss: 0.1949 - accuracy: 0.9927 - val_loss: 0.4566 - val_accuracy: 0.9247\n",
            "Epoch 15/15\n",
            "Learning rate:  0.0001\n",
            "31/31 [==============================] - 5s 149ms/step - loss: 0.1981 - accuracy: 0.9920 - val_loss: 0.4570 - val_accuracy: 0.9296\n"
          ],
          "name": "stdout"
        },
        {
          "output_type": "execute_result",
          "data": {
            "text/plain": [
              "<keras.callbacks.callbacks.History at 0x7f6438dd9f60>"
            ]
          },
          "metadata": {
            "tags": []
          },
          "execution_count": 39
        }
      ]
    },
    {
      "cell_type": "code",
      "metadata": {
        "id": "IIgI1stMA9fS",
        "colab_type": "code",
        "outputId": "0ab07cef-b40d-4508-d5f0-313cbf3627da",
        "colab": {
          "base_uri": "https://localhost:8080/",
          "height": 68
        }
      },
      "source": [
        "# let's estimate our result\n",
        "scores = model.evaluate(x_validation, y_validation, verbose=1)\n",
        "print('Test loss:', scores[0])\n",
        "print('Test accuracy:', scores[1])"
      ],
      "execution_count": 0,
      "outputs": [
        {
          "output_type": "stream",
          "text": [
            "611/611 [==============================] - 1s 943us/step\n",
            "Test loss: 0.4570042278050596\n",
            "Test accuracy: 0.929623544216156\n"
          ],
          "name": "stdout"
        }
      ]
    },
    {
      "cell_type": "code",
      "metadata": {
        "id": "qYRSkLJQBUPe",
        "colab_type": "code",
        "colab": {}
      },
      "source": [
        "#let see the how the classes are classified \n",
        "def plot_confusion_matrix(cm,classes,normalize=False,\n",
        "                          title='Confusion matrix', cmap=plt.cm.Blues):\n",
        "  if normalize :\n",
        "     cm = cm.astype('float') / cm.sum(axis=1)[:, np.newaxis]\n",
        "  plt.imshow(cm,interpolation='nearest', cmap=cmap)\n",
        "  plt.title(title)\n",
        "  plt.colorbar()\n",
        "  tick_marks = np.arange(len(classes))\n",
        "  plt.xticks(tick_marks, classes, rotation=45)\n",
        "  plt.yticks(tick_marks, classes)\n",
        "\n",
        "  fmt = '.2f' if normalize else 'd '\n",
        "  thresh = cm.max() / 2.\n",
        "  for i, j in itertools.product(range(cm.shape[0]), range(cm.shape[1])):\n",
        "      plt.text(j, i, format(cm[i, j], fmt),\n",
        "                horizontalalignment=\"center\",\n",
        "                 color=\"black\" if cm[i, j] > thresh else \"red\")\n",
        "\n",
        "  plt.tight_layout()\n",
        "  plt.ylabel('True label')\n",
        "  plt.xlabel('Predicted label')\n"
      ],
      "execution_count": 0,
      "outputs": []
    },
    {
      "cell_type": "code",
      "metadata": {
        "id": "bHQKKcybCc9r",
        "colab_type": "code",
        "colab": {}
      },
      "source": [
        "# let's draw confusion matrix to check classes recognition performance\n",
        "y_validation_cls = np.argmax(y_validation, axis=1)\n",
        "y_validation_predict = model.predict(x_validation)\n",
        "y_validation_predict_cls = np.argmax(y_validation_predict, axis=1)"
      ],
      "execution_count": 0,
      "outputs": []
    },
    {
      "cell_type": "code",
      "metadata": {
        "id": "ZcoeB4t2C5XK",
        "colab_type": "code",
        "outputId": "9e42992a-1273-424c-f87e-b48c04521022",
        "colab": {
          "base_uri": "https://localhost:8080/",
          "height": 729
        }
      },
      "source": [
        "fig = plt.gcf()\n",
        "fig.set_size_inches(10, 10)\n",
        "cnf_matrix = confusion_matrix(y_validation_cls, y_validation_predict_cls)\n",
        "plot_confusion_matrix(cnf_matrix, [f'C{i+1}' for i in range(num_classes)], \n",
        "                      title='Confusion matrix', normalize=True)"
      ],
      "execution_count": 0,
      "outputs": [
        {
          "output_type": "display_data",
          "data": {
            "image/png": "[encoded data removed]",
            "text/plain": [
              "<Figure size 720x720 with 2 Axes>"
            ]
          },
          "metadata": {
            "tags": [],
            "needs_background": "light"
          }
        }
      ]
    },
    {
      "cell_type": "code",
      "metadata": {
        "id": "NhrDb0GlC8LM",
        "colab_type": "code",
        "outputId": "324d8ece-15d2-41a0-ad54-00cda8b950d6",
        "colab": {
          "base_uri": "https://localhost:8080/",
          "height": 71
        }
      },
      "source": [
        "power = np.array([y_validation_predict[i][y_validation_predict_cls[i]] \n",
        "                  for i in range(len(y_validation_predict_cls))])\n",
        "\n",
        "\n",
        "margin = 5\n",
        "width = num_classes * SHAPE_WIDTH + (num_classes - 1) * margin\n",
        "height = num_classes * SHAPE_HEIGHT + (num_classes - 1) * margin\n",
        "confusion_image = np.zeros((height, width, 3), dtype='i')\n",
        "for i in range(num_classes):\n",
        "    for j in range(num_classes):\n",
        "        flags = [(y_validation_cls == i) & (y_validation_predict_cls == j)]\n",
        "        if not np.any(flags):\n",
        "            continue\n",
        "        max_cell_power = np.max(power[flags])\n",
        "        index = np.argmax(flags & (power == max_cell_power))\n",
        "        ymin, xmin = (SHAPE_HEIGHT+margin) * i, (SHAPE_WIDTH+margin) * j\n",
        "        ymax, xmax = ymin + SHAPE_HEIGHT, xmin + SHAPE_WIDTH\n",
        "        confusion_image[ymin:ymax, xmin:xmax, :] = x_validation_images[index]"
      ],
      "execution_count": 0,
      "outputs": [
        {
          "output_type": "stream",
          "text": [
            "/usr/local/lib/python3.6/dist-packages/ipykernel_launcher.py:14: FutureWarning: Using a non-tuple sequence for multidimensional indexing is deprecated; use `arr[tuple(seq)]` instead of `arr[seq]`. In the future this will be interpreted as an array index, `arr[np.array(seq)]`, which will result either in an error or a different result.\n",
            "  \n"
          ],
          "name": "stderr"
        }
      ]
    },
    {
      "cell_type": "code",
      "metadata": {
        "id": "FWYAYCetDk5J",
        "colab_type": "code",
        "outputId": "84e32c41-d36f-4b45-f58f-361f27b3515b",
        "colab": {
          "base_uri": "https://localhost:8080/",
          "height": 286
        }
      },
      "source": [
        "ig = plt.gcf()\n",
        "fig.set_size_inches(20, 20)\n",
        "plt.imshow(confusion_image)"
      ],
      "execution_count": 0,
      "outputs": [
        {
          "output_type": "execute_result",
          "data": {
            "text/plain": [
              "<matplotlib.image.AxesImage at 0x7f64378a8eb8>"
            ]
          },
          "metadata": {
            "tags": []
          },
          "execution_count": 60
        },
        {
          "output_type": "display_data",
          "data": {
            "image/png": "[encoded data removed]",
            "text/plain": [
              "<Figure size 432x288 with 1 Axes>"
            ]
          },
          "metadata": {
            "tags": [],
            "needs_background": "light"
          }
        }
      ]
    },
    {
      "cell_type": "code",
      "metadata": {
        "id": "YmhCkKxEDpDl",
        "colab_type": "code",
        "colab": {}
      },
      "source": [
        ""
      ],
      "execution_count": 0,
      "outputs": []
    }
  ]
}